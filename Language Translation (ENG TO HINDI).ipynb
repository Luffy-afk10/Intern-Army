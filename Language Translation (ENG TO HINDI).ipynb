{
 "cells": [
  {
   "cell_type": "code",
   "execution_count": 6,
   "id": "103fce5f",
   "metadata": {},
   "outputs": [
    {
     "name": "stdout",
     "output_type": "stream",
     "text": [
      "Text: Hello, how are you?\n",
      "Translation: हैलो, आप कैसे हैं?\n"
     ]
    }
   ],
   "source": [
    "from translate import Translator\n",
    "\n",
    "\n",
    "translator = Translator(from_lang='en', to_lang='hi')  # from English to hindi\n",
    "\n",
    "\n",
    "text = 'Hello, how are you?'\n",
    "\n",
    "\n",
    "translation = translator.translate(text)\n",
    "\n",
    "\n",
    "print(f'Text: {text}')\n",
    "print(f'Translation: {translation}')"
   ]
  },
  {
   "cell_type": "code",
   "execution_count": null,
   "id": "13ef037c",
   "metadata": {},
   "outputs": [],
   "source": []
  },
  {
   "cell_type": "code",
   "execution_count": null,
   "id": "6ae62190",
   "metadata": {},
   "outputs": [],
   "source": [
    "\n"
   ]
  },
  {
   "cell_type": "code",
   "execution_count": null,
   "id": "5914e9c9",
   "metadata": {},
   "outputs": [],
   "source": []
  }
 ],
 "metadata": {
  "kernelspec": {
   "display_name": "Python 3 (ipykernel)",
   "language": "python",
   "name": "python3"
  },
  "language_info": {
   "codemirror_mode": {
    "name": "ipython",
    "version": 3
   },
   "file_extension": ".py",
   "mimetype": "text/x-python",
   "name": "python",
   "nbconvert_exporter": "python",
   "pygments_lexer": "ipython3",
   "version": "3.11.5"
  }
 },
 "nbformat": 4,
 "nbformat_minor": 5
}
